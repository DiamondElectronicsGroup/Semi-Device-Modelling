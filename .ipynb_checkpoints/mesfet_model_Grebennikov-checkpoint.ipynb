{
 "cells": [
  {
   "cell_type": "code",
   "execution_count": 1,
   "metadata": {},
   "outputs": [],
   "source": [
    "# The aim for this project is to be able to simply model the characteristics of a semiconductor device given a number\n",
    "# of properties of the device"
   ]
  },
  {
   "cell_type": "code",
   "execution_count": 2,
   "metadata": {},
   "outputs": [],
   "source": [
    "import numpy as np\n",
    "import pandas as pd\n",
    "from scipy import constants as spcon\n",
    "import matplotlib.pyplot as plt\n",
    "from matplotlib.widgets import Slider, Button, RadioButtons\n",
    "plt.rcParams['figure.figsize'] = [15, 7]\n",
    "from ipywidgets import *\n",
    "import pint\n",
    "ureg = pint.UnitRegistry"
   ]
  },
  {
   "cell_type": "code",
   "execution_count": 3,
   "metadata": {},
   "outputs": [],
   "source": [
    "#Define the scientific constants necessary for the modelling\n",
    "q = spcon.elementary_charge #units of C\n",
    "perm0 = spcon.epsilon_0 #units of F/m\n",
    "kB = spcon.k / (1.602177 * (10 **-19)) #units of eV/K\n",
    "\n",
    "#Define the material properties relevant to this specific system\n",
    "permS = 11.68\n",
    "semiWF = 4.47 #units of eV\n",
    "metalWF = 4.88 #units of eC\n",
    "dopeConc = (1 * 10 ** 20) #in units of cm^-3\n",
    "hMob = 450 #units of cm^2/V.s\n",
    "\n",
    "#Define the device parameters, such as gate length, gate width and channel depth\n",
    "lGate = 20 * 10 ** (-4) #in units of cm\n",
    "wGate = 200 * 10 ** (-4) #in units of cm\n",
    "dChan = 100 * 10 ** (-7) #in units of cm"
   ]
  },
  {
   "cell_type": "code",
   "execution_count": 4,
   "metadata": {},
   "outputs": [],
   "source": [
    "#Calculate the built in voltage for the device\n",
    "vBI = (metalWF - semiWF)\n",
    "#Calculate the pinch-off voltage\n",
    "vP = q*((dopeConc * dChan**2) / (2 * (permS * perm0)))"
   ]
  },
  {
   "cell_type": "markdown",
   "metadata": {},
   "source": [
    "The built-in voltage of the MESFET is calculated using:\n",
    "$$V_{bi} = \\sigma_{m} - \\sigma_{s}$$\n",
    "\n",
    "---\n",
    "\n",
    "The pinch-off voltage is calculated using:\n",
    "$$V_P = q\\cdot\\frac{N_a\\cdot d^2}{2\\cdot\\epsilon_S\\cdot\\epsilon_0}$$"
   ]
  },
  {
   "cell_type": "code",
   "execution_count": 5,
   "metadata": {},
   "outputs": [],
   "source": [
    "#Define the input array for the current calculation\n",
    "inputs = np.array([q, permS, perm0, hMob, wGate, dopeConc, dChan, lGate, vBI, vP])"
   ]
  },
  {
   "cell_type": "code",
   "execution_count": 6,
   "metadata": {},
   "outputs": [],
   "source": [
    "#Calculate the depth of the depletion region in the MESFET (ie the region in which current is restricted)\n",
    "#Only consider the built-in voltage\n",
    "def BIDepletionDepth(inputs):\n",
    "    q, permS, perm0, hMob, wGate, dopeConc, dChan, lGate, vBI, vP = inputs\n",
    "    depth = np.sqrt(((2*permS*perm0)/(q*dopeConc))*(vBI))\n",
    "    return depth"
   ]
  },
  {
   "cell_type": "code",
   "execution_count": 7,
   "metadata": {},
   "outputs": [],
   "source": [
    "#Calculate the depth of the depletion region in the MESFET (ie the region in which current is restricted)\n",
    "#Consider the built-in voltage and the gate voltage\n",
    "def BIGDepletionDepth(inputs, vG):\n",
    "    q, permS, perm0, hMob, wGate, dopeConc, dChan, lGate, vBI, vP = inputs\n",
    "    depth = np.sqrt(((2*permS*perm0)/(q*dopeConc))*(vBI + vG))\n",
    "    return depth"
   ]
  },
  {
   "cell_type": "code",
   "execution_count": 8,
   "metadata": {},
   "outputs": [],
   "source": [
    "#Calculate the depth of the depletion region in the MESFET (ie the region in which current is restricted)\n",
    "#Consider the built-in voltage, the gate voltage and the drain voltage\n",
    "def TotDepletionDepth(inputs, vG, vD):\n",
    "    q, permS, perm0, hMob, wGate, dopeConc, dChan, lGate, vBI, vP = inputs\n",
    "    depth = np.sqrt(((2*permS*perm0)/(q*dopeConc))*(vBI + vG + vD))\n",
    "    return depth"
   ]
  },
  {
   "cell_type": "markdown",
   "metadata": {},
   "source": [
    "The total depletion depth is given by\n",
    "\n",
    "$$depth = \\sqrt{\\frac{2\\epsilon_S\\epsilon_0}{q\\cdot p}\\cdot (V_{bi} + V_G + V_D)}$$"
   ]
  },
  {
   "cell_type": "code",
   "execution_count": 16,
   "metadata": {},
   "outputs": [],
   "source": [
    "#Calculate the drain current based on the operating mode of the MESFET (ie taking into account vG and vD)\n",
    "def DrainCurrent(inputs, vG, vD):\n",
    "    \n",
    "    q, permS, perm0, hMob, wGate, dopeConc, dChan, lGate, vBI, vP, = inputs\n",
    "    coeff = (2 * q * hMob * wGate * dopeConc * dChan) / lGate\n",
    "    depthBIG = BIGDepletionDepth(inputs, vG)\n",
    "    depthTot = TotDepletionDepth(inputs, vG, vD)\n",
    "    \n",
    "    #Define the array that will hold the values for the current\n",
    "    iD = np.zeros(len(vD))\n",
    "    iDSat = 0.0\n",
    "    \n",
    "    for i in range(len(vD)):\n",
    "        #Calculate the saturation current, which is reached when vD = VDSat\n",
    "        iDSat = coeff*((vG-vP)-(2/3)*(vBI-vP)*(1-((vBI-vG)/(vBI-vP))**(3/2)))          \n",
    "        depDepth = max(depthBIG, depthTot[i])\n",
    "        if depDepth >= dChan:\n",
    "            iD[i] = 0\n",
    "        elif vD[i] >= (vG-vP):\n",
    "            iD[i] = iDSat\n",
    "        elif vD[i] < (vG-vP+vBI):\n",
    "            GDTerm = ((vBI-vG+vD[i])/(vBI-vP))\n",
    "            GTerm = ((vBI-vG)/(vBI-vP))\n",
    "            iD[i] = coeff*(vD[i]-(2/3)*(vBI-vP)*(GDTerm**(1.5)-GTerm**(1.5)))\n",
    "        if iD[i] > 0:\n",
    "            iD[i] = 0\n",
    "\n",
    "    return iD, iDSat"
   ]
  },
  {
   "cell_type": "markdown",
   "metadata": {},
   "source": [
    "\"Introduction to Semiconductor Devices\" by Brennan, page 117.\n",
    "\n",
    "The current through the device is calculated for the various operating modes as follows:\n",
    "\n",
    "---\n",
    "\n",
    "If the depletion depth is greater than the channel depth, then\n",
    "$$I_D = 0$$\n",
    "\n",
    "---\n",
    "\n",
    "If the $V_D \\geq V_G - V_{bi} + V_P$ then\n",
    "$$I_D = I_{D(sat)} = \\frac{2 q \\mu_p W N_a d}{L}\\{(V_G - V_P) - \\frac{2}{3}(V_{bi}-V_P)[(1-(\\frac{V_{bi}-V_G}{V_{bi}-V_P})^\\frac{3}{2}]\\}$$\n",
    "\n",
    "---\n",
    "\n",
    "If the $V_D \\lt V_G - V_{bi} + V_P$ then\n",
    "$$I_D = \\frac{2 q \\mu_p W N_a d}{L}\\{V_D - \\frac{2}{3}(V_{bi}-V_P)[(\\frac{V_{bi}-V_G+V_D}{V_{bi}-V_P})^\\frac{3}{2}-(\\frac{V_{bi}-V_G}{V_{bi}-V_P})^\\frac{3}{2}]\\}$$"
   ]
  },
  {
   "cell_type": "code",
   "execution_count": 18,
   "metadata": {
    "scrolled": false
   },
   "outputs": [
    {
     "data": {
      "application/vnd.jupyter.widget-view+json": {
       "model_id": "3d6361ce1f5647be99835228ad91b682",
       "version_major": 2,
       "version_minor": 0
      },
      "text/plain": [
       "interactive(children=(FloatSlider(value=2.5, description='vG', max=5.0, min=-1.0, step=0.25), Dropdown(descrip…"
      ]
     },
     "metadata": {},
     "output_type": "display_data"
    }
   ],
   "source": [
    "%matplotlib inline\n",
    "@widgets.interact(\n",
    "    color=['blue', 'red', 'green'], vDmax=(1., 20., 1.), vG=(-1.0, 5.0, 0.25))\n",
    "\n",
    "def plot(vG=2.50, color='red', vDmax=15):\n",
    "    vD = np.linspace(-vDmax, 8, 10000)\n",
    "    fig, ax = plt.subplots(1, 1, figsize=(12, 9))\n",
    "    #ax.axvline(vP)\n",
    "    #ax.axvline(vBI)\n",
    "    #ax.axvline(vG)\n",
    "    ax.plot(vD, DrainCurrent(inputs, vG, vD)[0], color=color)"
   ]
  }
 ],
 "metadata": {
  "kernelspec": {
   "display_name": "Python 3",
   "language": "python",
   "name": "python3"
  },
  "language_info": {
   "codemirror_mode": {
    "name": "ipython",
    "version": 3
   },
   "file_extension": ".py",
   "mimetype": "text/x-python",
   "name": "python",
   "nbconvert_exporter": "python",
   "pygments_lexer": "ipython3",
   "version": "3.7.4"
  }
 },
 "nbformat": 4,
 "nbformat_minor": 4
}
