{
  "nbformat": 4,
  "nbformat_minor": 0,
  "metadata": {
    "kernelspec": {
      "display_name": "Python 3",
      "language": "python",
      "name": "python3"
    },
    "language_info": {
      "codemirror_mode": {
        "name": "ipython",
        "version": 3
      },
      "file_extension": ".py",
      "mimetype": "text/x-python",
      "name": "python",
      "nbconvert_exporter": "python",
      "pygments_lexer": "ipython3",
      "version": "3.7.4"
    },
    "colab": {
      "name": "Semi_Device_Modelling_Ver2_(w_sliders).ipynb",
      "provenance": [],
      "collapsed_sections": [],
      "include_colab_link": true
    },
    "widgets": {
      "application/vnd.jupyter.widget-state+json": {
        "221b796ceafa446481db78b6e2f4e776": {
          "model_module": "@jupyter-widgets/controls",
          "model_name": "VBoxModel",
          "state": {
            "_view_name": "VBoxView",
            "_dom_classes": [
              "widget-interact"
            ],
            "_model_name": "VBoxModel",
            "_view_module": "@jupyter-widgets/controls",
            "_model_module_version": "1.5.0",
            "_view_count": null,
            "_view_module_version": "1.5.0",
            "box_style": "",
            "layout": "IPY_MODEL_1760f7a02b0d4878aad94c2b54886601",
            "_model_module": "@jupyter-widgets/controls",
            "children": [
              "IPY_MODEL_ae9ac59da8ec4e9280c54913e663a35b",
              "IPY_MODEL_a604ba54389c4777a0ba88ff596a6521",
              "IPY_MODEL_f0fcd4bc8412419d8af5dbefe11ec2ff",
              "IPY_MODEL_7776ddcf2baf4d74a206dfde357e1e7b",
              "IPY_MODEL_1d56e9ba36ca4a24b8a08678b4dc6230"
            ]
          }
        },
        "1760f7a02b0d4878aad94c2b54886601": {
          "model_module": "@jupyter-widgets/base",
          "model_name": "LayoutModel",
          "state": {
            "_view_name": "LayoutView",
            "grid_template_rows": null,
            "right": null,
            "justify_content": null,
            "_view_module": "@jupyter-widgets/base",
            "overflow": null,
            "_model_module_version": "1.2.0",
            "_view_count": null,
            "flex_flow": null,
            "width": null,
            "min_width": null,
            "border": null,
            "align_items": null,
            "bottom": null,
            "_model_module": "@jupyter-widgets/base",
            "top": null,
            "grid_column": null,
            "overflow_y": null,
            "overflow_x": null,
            "grid_auto_flow": null,
            "grid_area": null,
            "grid_template_columns": null,
            "flex": null,
            "_model_name": "LayoutModel",
            "justify_items": null,
            "grid_row": null,
            "max_height": null,
            "align_content": null,
            "visibility": null,
            "align_self": null,
            "height": null,
            "min_height": null,
            "padding": null,
            "grid_auto_rows": null,
            "grid_gap": null,
            "max_width": null,
            "order": null,
            "_view_module_version": "1.2.0",
            "grid_template_areas": null,
            "object_position": null,
            "object_fit": null,
            "grid_auto_columns": null,
            "margin": null,
            "display": null,
            "left": null
          }
        },
        "ae9ac59da8ec4e9280c54913e663a35b": {
          "model_module": "@jupyter-widgets/controls",
          "model_name": "FloatSliderModel",
          "state": {
            "_view_name": "FloatSliderView",
            "style": "IPY_MODEL_31488f380c814d9f901242cd1f70d14a",
            "_dom_classes": [],
            "description": "vG",
            "step": 0.25,
            "_model_name": "FloatSliderModel",
            "orientation": "horizontal",
            "max": 5,
            "_view_module": "@jupyter-widgets/controls",
            "_model_module_version": "1.5.0",
            "value": 3.75,
            "_view_count": null,
            "disabled": false,
            "_view_module_version": "1.5.0",
            "min": 0,
            "continuous_update": true,
            "readout_format": ".2f",
            "description_tooltip": null,
            "readout": true,
            "_model_module": "@jupyter-widgets/controls",
            "layout": "IPY_MODEL_b220d78705aa4e03b3d8d2b20e9cc72d"
          }
        },
        "a604ba54389c4777a0ba88ff596a6521": {
          "model_module": "@jupyter-widgets/controls",
          "model_name": "DropdownModel",
          "state": {
            "_options_labels": [
              "blue",
              "red",
              "green"
            ],
            "_view_name": "DropdownView",
            "style": "IPY_MODEL_b879646e7a5f434a9885d1bd8251697c",
            "_dom_classes": [],
            "description": "color",
            "_model_name": "DropdownModel",
            "index": 0,
            "_view_module": "@jupyter-widgets/controls",
            "_model_module_version": "1.5.0",
            "_view_count": null,
            "disabled": false,
            "_view_module_version": "1.5.0",
            "description_tooltip": null,
            "_model_module": "@jupyter-widgets/controls",
            "layout": "IPY_MODEL_1cda74c275a245aca00aa14e22d94406"
          }
        },
        "f0fcd4bc8412419d8af5dbefe11ec2ff": {
          "model_module": "@jupyter-widgets/controls",
          "model_name": "FloatSliderModel",
          "state": {
            "_view_name": "FloatSliderView",
            "style": "IPY_MODEL_4836047d034947ef849db08fbfdda6bd",
            "_dom_classes": [],
            "description": "vDmax",
            "step": 1,
            "_model_name": "FloatSliderModel",
            "orientation": "horizontal",
            "max": 20,
            "_view_module": "@jupyter-widgets/controls",
            "_model_module_version": "1.5.0",
            "value": 5,
            "_view_count": null,
            "disabled": false,
            "_view_module_version": "1.5.0",
            "min": 1,
            "continuous_update": true,
            "readout_format": ".2f",
            "description_tooltip": null,
            "readout": true,
            "_model_module": "@jupyter-widgets/controls",
            "layout": "IPY_MODEL_eee4ebbd435b4a518b178e939c1d2265"
          }
        },
        "7776ddcf2baf4d74a206dfde357e1e7b": {
          "model_module": "@jupyter-widgets/controls",
          "model_name": "CheckboxModel",
          "state": {
            "_view_name": "CheckboxView",
            "style": "IPY_MODEL_626bcd2bcc424b6c9b12e29951e0be55",
            "_dom_classes": [],
            "description": "grid",
            "_model_name": "CheckboxModel",
            "_view_module": "@jupyter-widgets/controls",
            "_model_module_version": "1.5.0",
            "value": true,
            "_view_count": null,
            "disabled": false,
            "_view_module_version": "1.5.0",
            "indent": true,
            "description_tooltip": null,
            "_model_module": "@jupyter-widgets/controls",
            "layout": "IPY_MODEL_dbdb265e2f3a408ea7bf20368ca6a022"
          }
        },
        "1d56e9ba36ca4a24b8a08678b4dc6230": {
          "model_module": "@jupyter-widgets/output",
          "model_name": "OutputModel",
          "state": {
            "_view_name": "OutputView",
            "msg_id": "",
            "_dom_classes": [],
            "_model_name": "OutputModel",
            "outputs": [
              {
                "output_type": "display_data",
                "metadata": {
                  "tags": []
                },
                "image/png": "iVBORw0KGgoAAAANSUhEUgAAAeMAAAFlCAYAAADYnoD9AAAABHNCSVQICAgIfAhkiAAAAAlwSFlz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\nqwAAAABJRU5ErkJggg==\n",
                "text/plain": "<Figure size 576x432 with 1 Axes>"
              }
            ],
            "_view_module": "@jupyter-widgets/output",
            "_model_module_version": "1.0.0",
            "_view_count": null,
            "_view_module_version": "1.0.0",
            "layout": "IPY_MODEL_02e8763312ce4b6997e45399181661b2",
            "_model_module": "@jupyter-widgets/output"
          }
        },
        "31488f380c814d9f901242cd1f70d14a": {
          "model_module": "@jupyter-widgets/controls",
          "model_name": "SliderStyleModel",
          "state": {
            "_view_name": "StyleView",
            "handle_color": null,
            "_model_name": "SliderStyleModel",
            "description_width": "",
            "_view_module": "@jupyter-widgets/base",
            "_model_module_version": "1.5.0",
            "_view_count": null,
            "_view_module_version": "1.2.0",
            "_model_module": "@jupyter-widgets/controls"
          }
        },
        "b220d78705aa4e03b3d8d2b20e9cc72d": {
          "model_module": "@jupyter-widgets/base",
          "model_name": "LayoutModel",
          "state": {
            "_view_name": "LayoutView",
            "grid_template_rows": null,
            "right": null,
            "justify_content": null,
            "_view_module": "@jupyter-widgets/base",
            "overflow": null,
            "_model_module_version": "1.2.0",
            "_view_count": null,
            "flex_flow": null,
            "width": null,
            "min_width": null,
            "border": null,
            "align_items": null,
            "bottom": null,
            "_model_module": "@jupyter-widgets/base",
            "top": null,
            "grid_column": null,
            "overflow_y": null,
            "overflow_x": null,
            "grid_auto_flow": null,
            "grid_area": null,
            "grid_template_columns": null,
            "flex": null,
            "_model_name": "LayoutModel",
            "justify_items": null,
            "grid_row": null,
            "max_height": null,
            "align_content": null,
            "visibility": null,
            "align_self": null,
            "height": null,
            "min_height": null,
            "padding": null,
            "grid_auto_rows": null,
            "grid_gap": null,
            "max_width": null,
            "order": null,
            "_view_module_version": "1.2.0",
            "grid_template_areas": null,
            "object_position": null,
            "object_fit": null,
            "grid_auto_columns": null,
            "margin": null,
            "display": null,
            "left": null
          }
        },
        "b879646e7a5f434a9885d1bd8251697c": {
          "model_module": "@jupyter-widgets/controls",
          "model_name": "DescriptionStyleModel",
          "state": {
            "_view_name": "StyleView",
            "_model_name": "DescriptionStyleModel",
            "description_width": "",
            "_view_module": "@jupyter-widgets/base",
            "_model_module_version": "1.5.0",
            "_view_count": null,
            "_view_module_version": "1.2.0",
            "_model_module": "@jupyter-widgets/controls"
          }
        },
        "1cda74c275a245aca00aa14e22d94406": {
          "model_module": "@jupyter-widgets/base",
          "model_name": "LayoutModel",
          "state": {
            "_view_name": "LayoutView",
            "grid_template_rows": null,
            "right": null,
            "justify_content": null,
            "_view_module": "@jupyter-widgets/base",
            "overflow": null,
            "_model_module_version": "1.2.0",
            "_view_count": null,
            "flex_flow": null,
            "width": null,
            "min_width": null,
            "border": null,
            "align_items": null,
            "bottom": null,
            "_model_module": "@jupyter-widgets/base",
            "top": null,
            "grid_column": null,
            "overflow_y": null,
            "overflow_x": null,
            "grid_auto_flow": null,
            "grid_area": null,
            "grid_template_columns": null,
            "flex": null,
            "_model_name": "LayoutModel",
            "justify_items": null,
            "grid_row": null,
            "max_height": null,
            "align_content": null,
            "visibility": null,
            "align_self": null,
            "height": null,
            "min_height": null,
            "padding": null,
            "grid_auto_rows": null,
            "grid_gap": null,
            "max_width": null,
            "order": null,
            "_view_module_version": "1.2.0",
            "grid_template_areas": null,
            "object_position": null,
            "object_fit": null,
            "grid_auto_columns": null,
            "margin": null,
            "display": null,
            "left": null
          }
        },
        "4836047d034947ef849db08fbfdda6bd": {
          "model_module": "@jupyter-widgets/controls",
          "model_name": "SliderStyleModel",
          "state": {
            "_view_name": "StyleView",
            "handle_color": null,
            "_model_name": "SliderStyleModel",
            "description_width": "",
            "_view_module": "@jupyter-widgets/base",
            "_model_module_version": "1.5.0",
            "_view_count": null,
            "_view_module_version": "1.2.0",
            "_model_module": "@jupyter-widgets/controls"
          }
        },
        "eee4ebbd435b4a518b178e939c1d2265": {
          "model_module": "@jupyter-widgets/base",
          "model_name": "LayoutModel",
          "state": {
            "_view_name": "LayoutView",
            "grid_template_rows": null,
            "right": null,
            "justify_content": null,
            "_view_module": "@jupyter-widgets/base",
            "overflow": null,
            "_model_module_version": "1.2.0",
            "_view_count": null,
            "flex_flow": null,
            "width": null,
            "min_width": null,
            "border": null,
            "align_items": null,
            "bottom": null,
            "_model_module": "@jupyter-widgets/base",
            "top": null,
            "grid_column": null,
            "overflow_y": null,
            "overflow_x": null,
            "grid_auto_flow": null,
            "grid_area": null,
            "grid_template_columns": null,
            "flex": null,
            "_model_name": "LayoutModel",
            "justify_items": null,
            "grid_row": null,
            "max_height": null,
            "align_content": null,
            "visibility": null,
            "align_self": null,
            "height": null,
            "min_height": null,
            "padding": null,
            "grid_auto_rows": null,
            "grid_gap": null,
            "max_width": null,
            "order": null,
            "_view_module_version": "1.2.0",
            "grid_template_areas": null,
            "object_position": null,
            "object_fit": null,
            "grid_auto_columns": null,
            "margin": null,
            "display": null,
            "left": null
          }
        },
        "626bcd2bcc424b6c9b12e29951e0be55": {
          "model_module": "@jupyter-widgets/controls",
          "model_name": "DescriptionStyleModel",
          "state": {
            "_view_name": "StyleView",
            "_model_name": "DescriptionStyleModel",
            "description_width": "",
            "_view_module": "@jupyter-widgets/base",
            "_model_module_version": "1.5.0",
            "_view_count": null,
            "_view_module_version": "1.2.0",
            "_model_module": "@jupyter-widgets/controls"
          }
        },
        "dbdb265e2f3a408ea7bf20368ca6a022": {
          "model_module": "@jupyter-widgets/base",
          "model_name": "LayoutModel",
          "state": {
            "_view_name": "LayoutView",
            "grid_template_rows": null,
            "right": null,
            "justify_content": null,
            "_view_module": "@jupyter-widgets/base",
            "overflow": null,
            "_model_module_version": "1.2.0",
            "_view_count": null,
            "flex_flow": null,
            "width": null,
            "min_width": null,
            "border": null,
            "align_items": null,
            "bottom": null,
            "_model_module": "@jupyter-widgets/base",
            "top": null,
            "grid_column": null,
            "overflow_y": null,
            "overflow_x": null,
            "grid_auto_flow": null,
            "grid_area": null,
            "grid_template_columns": null,
            "flex": null,
            "_model_name": "LayoutModel",
            "justify_items": null,
            "grid_row": null,
            "max_height": null,
            "align_content": null,
            "visibility": null,
            "align_self": null,
            "height": null,
            "min_height": null,
            "padding": null,
            "grid_auto_rows": null,
            "grid_gap": null,
            "max_width": null,
            "order": null,
            "_view_module_version": "1.2.0",
            "grid_template_areas": null,
            "object_position": null,
            "object_fit": null,
            "grid_auto_columns": null,
            "margin": null,
            "display": null,
            "left": null
          }
        },
        "02e8763312ce4b6997e45399181661b2": {
          "model_module": "@jupyter-widgets/base",
          "model_name": "LayoutModel",
          "state": {
            "_view_name": "LayoutView",
            "grid_template_rows": null,
            "right": null,
            "justify_content": null,
            "_view_module": "@jupyter-widgets/base",
            "overflow": null,
            "_model_module_version": "1.2.0",
            "_view_count": null,
            "flex_flow": null,
            "width": null,
            "min_width": null,
            "border": null,
            "align_items": null,
            "bottom": null,
            "_model_module": "@jupyter-widgets/base",
            "top": null,
            "grid_column": null,
            "overflow_y": null,
            "overflow_x": null,
            "grid_auto_flow": null,
            "grid_area": null,
            "grid_template_columns": null,
            "flex": null,
            "_model_name": "LayoutModel",
            "justify_items": null,
            "grid_row": null,
            "max_height": null,
            "align_content": null,
            "visibility": null,
            "align_self": null,
            "height": null,
            "min_height": null,
            "padding": null,
            "grid_auto_rows": null,
            "grid_gap": null,
            "max_width": null,
            "order": null,
            "_view_module_version": "1.2.0",
            "grid_template_areas": null,
            "object_position": null,
            "object_fit": null,
            "grid_auto_columns": null,
            "margin": null,
            "display": null,
            "left": null
          }
        }
      }
    }
  },
  "cells": [
    {
      "cell_type": "markdown",
      "metadata": {
        "id": "view-in-github",
        "colab_type": "text"
      },
      "source": [
        "<a href=\"https://colab.research.google.com/github/DiamondElectronicsGroup/Semi-Device-Modelling/blob/master/Semi_Device_Modelling_Ver2_(w_sliders).ipynb\" target=\"_parent\"><img src=\"https://colab.research.google.com/assets/colab-badge.svg\" alt=\"Open In Colab\"/></a>"
      ]
    },
    {
      "cell_type": "code",
      "metadata": {
        "id": "CvVBV6_emip7",
        "colab_type": "code",
        "colab": {}
      },
      "source": [
        "# The aim for this project is to be able to simply model the characteristics of a semiconductor device given a number\n",
        "# of properties of the device"
      ],
      "execution_count": 0,
      "outputs": []
    },
    {
      "cell_type": "code",
      "metadata": {
        "id": "xkAqt6llmiqE",
        "colab_type": "code",
        "colab": {}
      },
      "source": [
        "import numpy as np\n",
        "import pandas as pd\n",
        "from scipy import constants as spcon\n",
        "import matplotlib.pyplot as plt\n",
        "from matplotlib.widgets import Slider, Button, RadioButtons\n",
        "plt.rcParams['figure.figsize'] = [15, 7]\n",
        "\n",
        "\n",
        "%matplotlib inline\n",
        "from ipywidgets import *"
      ],
      "execution_count": 0,
      "outputs": []
    },
    {
      "cell_type": "code",
      "metadata": {
        "id": "8GSPev2NmiqO",
        "colab_type": "code",
        "colab": {}
      },
      "source": [
        "#Define the scientific constants necessary for the modelling\n",
        "q = spcon.elementary_charge\n",
        "perm0 = spcon.epsilon_0\n",
        "kB = spcon.k\n",
        "\n",
        "#Define the material properties relevant to this specific system\n",
        "permS = 11.68\n",
        "semiWF = 4.47\n",
        "metalWF = 4.88\n",
        "dopeConc = (1 * 10 ** 20) #in units of cm^-3\n",
        "hMob = 450\n",
        "\n",
        "#Define the device parameters, such as gate length, gate width and channel depth\n",
        "lGate = 20 * 10 ** (-4)        #in units of um\n",
        "wGate = 200 * 10 ** (-4)        #in units of um\n",
        "dChan = 100 * 10 ** (-7)        #in units of nm\n",
        "\n",
        "#Calculate the built in voltage for the device\n",
        "vBI = (metalWF - semiWF)\n",
        "\n",
        "#Calculate the pinch-off voltage\n",
        "vP = q*((dopeConc * dChan**2) / (2 * (permS * perm0)))\n",
        "\n",
        "#Define the system voltages\n",
        "vG = np.arange(0.0, 1., 0.25)\n",
        "vS = 0\n",
        "vD = np.arange(-2, 8, 0.005)\n",
        "\n",
        "#Define the input array for the current calculation\n",
        "inputs = np.array([q, permS, perm0, hMob, wGate, dopeConc, dChan, lGate, vBI, vP])"
      ],
      "execution_count": 0,
      "outputs": []
    },
    {
      "cell_type": "code",
      "metadata": {
        "id": "rszNnkApmiqT",
        "colab_type": "code",
        "colab": {}
      },
      "source": [
        "#Calculate the depth of the depletion region in the MESFET (ie the region in which current is restricted)\n",
        "#Only consider the built-in voltage\n",
        "def BIDepletionDepth(inputs):\n",
        "    \n",
        "    q, permS, perm0, hMob, wGate, dopeConc, dChan, lGate, vBI, vP = inputs\n",
        "    \n",
        "    depth = np.sqrt(((2*permS*perm0)/(q*dopeConc))*(vBI))\n",
        "    return depth"
      ],
      "execution_count": 0,
      "outputs": []
    },
    {
      "cell_type": "code",
      "metadata": {
        "id": "-j0aM67KmiqZ",
        "colab_type": "code",
        "colab": {}
      },
      "source": [
        "#Calculate the depth of the depletion region in the MESFET (ie the region in which current is restricted)\n",
        "#Consider the built-in voltage and the gate voltage\n",
        "def BIGDepletionDepth(inputs, vG):\n",
        "    \n",
        "    q, permS, perm0, hMob, wGate, dopeConc, dChan, lGate, vBI, vP = inputs\n",
        "    \n",
        "    depth = np.sqrt(((2*permS*perm0)/(q*dopeConc))*(vBI + vG))\n",
        "    \n",
        "    return depth"
      ],
      "execution_count": 0,
      "outputs": []
    },
    {
      "cell_type": "code",
      "metadata": {
        "id": "Vs4fuxtImiqg",
        "colab_type": "code",
        "colab": {}
      },
      "source": [
        "#Calculate the depth of the depletion region in the MESFET (ie the region in which current is restricted)\n",
        "#Consider the built-in voltage, the gate voltage and the drain voltage\n",
        "def TotDepletionDepth(inputs, vG, vD):\n",
        "    \n",
        "    q, permS, perm0, hMob, wGate, dopeConc, dChan, lGate, vBI, vP = inputs\n",
        "\n",
        "    depth = np.sqrt(((2*permS*perm0)/(q*dopeConc))*(vBI + vG + vD))\n",
        "    \n",
        "    return depth"
      ],
      "execution_count": 0,
      "outputs": []
    },
    {
      "cell_type": "code",
      "metadata": {
        "id": "dx-LbMQlmiqm",
        "colab_type": "code",
        "colab": {}
      },
      "source": [
        "#Calculate the drain current based on the operating mode of the MESFET (ie taking into account vG and vD)\n",
        "def DrainCurrent(inputs, vG, vD):\n",
        "    \n",
        "    q, permS, perm0, hMob, wGate, dopeConc, dChan, lGate, vBI, vP, = inputs\n",
        "    coeff = 2 * q * hMob * wGate * dopeConc * dChan / lGate\n",
        "    depthBIG = BIGDepletionDepth(inputs, vG)\n",
        "    depthTot = TotDepletionDepth(inputs, vG, vD)\n",
        "    \n",
        "    #Define the array that will hold the values for the current\n",
        "    iD = np.zeros(len(vD))\n",
        "    iDSat = 0.0\n",
        "\n",
        "    \n",
        "    for i in range(len(vD)):\n",
        "        #Calculate the saturation current, which is reached when vD = VDSat\n",
        "        iDSat = coeff * (vG - vBI + vP - (2/3)*(vP - ((vG - vBI)/np.sqrt(vP))**(1.5)))          \n",
        "        depDepth = max(depthBIG, depthTot[i])\n",
        "        \n",
        "        if depDepth >= dChan:\n",
        "            iD[i] = 0\n",
        "        \n",
        "        elif vD[i] >= (vG - vBI + vP):\n",
        "            iD[i] = iDSat[i]\n",
        "        \n",
        "        elif vD[i] < (vG - vBI + vP) and vD[i] > 0:\n",
        "            GDTerm = ((vG - vBI + vD[i])/np.sqrt(vP))\n",
        "            GTerm = ((vG - vBI)/np.sqrt(vP))\n",
        "            iD[i] = coeff * (vD[i] - (2/3)*(GDTerm**(1.5) - GTerm**(1.5)))\n",
        "            \n",
        "        else:\n",
        "            iD[i] = 0\n",
        "\n",
        "    return iD, iDSat"
      ],
      "execution_count": 0,
      "outputs": []
    },
    {
      "cell_type": "code",
      "metadata": {
        "id": "cLuKCfrWmiqq",
        "colab_type": "code",
        "colab": {},
        "outputId": "c8ba55cd-52fd-438b-e5ea-0105d5d7b5eb"
      },
      "source": [
        "\"\"\"\n",
        "#Find the built in depletion depth and the depletion depth with the current vG and vD\n",
        "depthBI = BIDepletionDepth(inputs)\n",
        "depthBIG = BIGDepletionDepth(inputs, vG)\n",
        "depthTot = TotDepletionDepth(inputs, vG, vD)\n",
        "\n",
        "print('The depth of the cunducting channel is ', dChan, '\\nThe depth of the depletion region due to the built-in voltage is ', depthBI, '\\nThe depth of the depletion region due to the built-in voltage and the gate voltage is ', depthBIG)\n",
        "\n",
        "plt.axhline(dChan, label='Channel Depth', color='black', linestyle='--')\n",
        "plt.axhline(depthBI, label='Depletion Depth V_BI', color='g')\n",
        "\n",
        "for i in range(len(vG)):\n",
        "    plt.axhline(depthBIG[i], label='Depletion Depth V_BI+V_G', color = 'b')\n",
        "    plt.plot(vD, depthTot[i], label='Depletion Depth V_BI+V_G+V_D', color = 'r')\n",
        "plt.legend()\n",
        "plt.ylabel('Depth')\n",
        "plt.xlabel('Drain Voltage')\n",
        "plt.savefig('Channel_Depths', format='png', dpi=400)\n",
        "plt.show()\n",
        "\"\"\""
      ],
      "execution_count": 0,
      "outputs": [
        {
          "output_type": "execute_result",
          "data": {
            "text/plain": [
              "\"\\n#Find the built in depletion depth and the depletion depth with the current vG and vD\\ndepthBI = BIDepletionDepth(inputs)\\ndepthBIG = BIGDepletionDepth(inputs, vG)\\ndepthTot = TotDepletionDepth(inputs, vG, vD)\\n\\nprint('The depth of the cunducting channel is ', dChan, '\\nThe depth of the depletion region due to the built-in voltage is ', depthBI, '\\nThe depth of the depletion region due to the built-in voltage and the gate voltage is ', depthBIG)\\n\\nplt.axhline(dChan, label='Channel Depth', color='black', linestyle='--')\\nplt.axhline(depthBI, label='Depletion Depth V_BI', color='g')\\n\\nfor i in range(len(vG)):\\n    plt.axhline(depthBIG[i], label='Depletion Depth V_BI+V_G', color = 'b')\\n    plt.plot(vD, depthTot[i], label='Depletion Depth V_BI+V_G+V_D', color = 'r')\\nplt.legend()\\nplt.ylabel('Depth')\\nplt.xlabel('Drain Voltage')\\nplt.savefig('Channel_Depths', format='png', dpi=400)\\nplt.show()\\n\""
            ]
          },
          "metadata": {
            "tags": []
          },
          "execution_count": 22
        }
      ]
    },
    {
      "cell_type": "code",
      "metadata": {
        "id": "FROuW7Apmiq3",
        "colab_type": "code",
        "colab": {
          "base_uri": "https://localhost:8080/",
          "height": 502,
          "referenced_widgets": [
            "221b796ceafa446481db78b6e2f4e776",
            "1760f7a02b0d4878aad94c2b54886601",
            "ae9ac59da8ec4e9280c54913e663a35b",
            "a604ba54389c4777a0ba88ff596a6521",
            "f0fcd4bc8412419d8af5dbefe11ec2ff",
            "7776ddcf2baf4d74a206dfde357e1e7b",
            "1d56e9ba36ca4a24b8a08678b4dc6230",
            "31488f380c814d9f901242cd1f70d14a",
            "b220d78705aa4e03b3d8d2b20e9cc72d",
            "b879646e7a5f434a9885d1bd8251697c",
            "1cda74c275a245aca00aa14e22d94406",
            "4836047d034947ef849db08fbfdda6bd",
            "eee4ebbd435b4a518b178e939c1d2265",
            "626bcd2bcc424b6c9b12e29951e0be55",
            "dbdb265e2f3a408ea7bf20368ca6a022",
            "02e8763312ce4b6997e45399181661b2"
          ]
        },
        "outputId": "af029c43-e819-4921-8f12-6cde1331b338"
      },
      "source": [
        "\n",
        "\n",
        "@widgets.interact(\n",
        "    color=['blue', 'red', 'green'], vDmax=(1., 20., 1.), vG=(0.0, 5.0, 0.25))\n",
        "def plot(vG=0.50, color='blue', vDmax=10, grid=False):\n",
        "    vD = np.linspace(-1., vDmax, 10000)\n",
        "    fig, ax = plt.subplots(1, 1, figsize=(8, 6))\n",
        "    ax.plot(vD, DrainCurrent(inputs, vG, vD)[0], color=color)\n",
        "    ax.grid(grid)\n"
      ],
      "execution_count": 8,
      "outputs": [
        {
          "output_type": "display_data",
          "data": {
            "application/vnd.jupyter.widget-view+json": {
              "model_id": "221b796ceafa446481db78b6e2f4e776",
              "version_minor": 0,
              "version_major": 2
            },
            "text/plain": [
              "interactive(children=(FloatSlider(value=0.5, description='vG', max=5.0, step=0.25), Dropdown(description='colo…"
            ]
          },
          "metadata": {
            "tags": []
          }
        }
      ]
    }
  ]
}