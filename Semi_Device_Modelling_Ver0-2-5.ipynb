{
  "nbformat": 4,
  "nbformat_minor": 0,
  "metadata": {
    "kernelspec": {
      "display_name": "Python 3",
      "language": "python",
      "name": "python3"
    },
    "language_info": {
      "codemirror_mode": {
        "name": "ipython",
        "version": 3
      },
      "file_extension": ".py",
      "mimetype": "text/x-python",
      "name": "python",
      "nbconvert_exporter": "python",
      "pygments_lexer": "ipython3",
      "version": "3.7.4"
    },
    "colab": {
      "name": "Semi_Device_Modelling_Ver2_(w_sliders).ipynb",
      "provenance": [],
      "collapsed_sections": [],
      "include_colab_link": true
    },
    "widgets": {
      "application/vnd.jupyter.widget-state+json": {
        "d8e347e6206e43068d70ee391c045559": {
          "model_module": "@jupyter-widgets/controls",
          "model_name": "VBoxModel",
          "state": {
            "_dom_classes": [
              "widget-interact"
            ],
            "_model_module": "@jupyter-widgets/controls",
            "_model_module_version": "1.5.0",
            "_model_name": "VBoxModel",
            "_view_count": null,
            "_view_module": "@jupyter-widgets/controls",
            "_view_module_version": "1.5.0",
            "_view_name": "VBoxView",
            "box_style": "",
            "children": [
              "IPY_MODEL_7f423bd3e24648fda7ea9d13a6bf0ce9",
              "IPY_MODEL_a4cea8fd49c04dfca4d7b369761116a8",
              "IPY_MODEL_54ef7875d0a3430e99ca76cac9190242",
              "IPY_MODEL_d9a8152afff44e02b24285ba14964669",
              "IPY_MODEL_bfbb8d3c618342c292776d18b43c2d3f"
            ],
            "layout": "IPY_MODEL_e6eab95df22a4e6f89e2b3ade66d3698"
          }
        },
        "7f423bd3e24648fda7ea9d13a6bf0ce9": {
          "model_module": "@jupyter-widgets/controls",
          "model_name": "FloatSliderModel",
          "state": {
            "_dom_classes": [],
            "_model_module": "@jupyter-widgets/controls",
            "_model_module_version": "1.5.0",
            "_model_name": "FloatSliderModel",
            "_view_count": null,
            "_view_module": "@jupyter-widgets/controls",
            "_view_module_version": "1.5.0",
            "_view_name": "FloatSliderView",
            "continuous_update": true,
            "description": "vG",
            "description_tooltip": null,
            "disabled": false,
            "layout": "IPY_MODEL_619f3a5f9a62441fac84bbbe0448e1ea",
            "max": 5,
            "min": 0,
            "orientation": "horizontal",
            "readout": true,
            "readout_format": ".2f",
            "step": 0.25,
            "style": "IPY_MODEL_d35bedc546b340acbc3ff0331e86e252",
            "value": 0.5
          }
        },
        "a4cea8fd49c04dfca4d7b369761116a8": {
          "model_module": "@jupyter-widgets/controls",
          "model_name": "DropdownModel",
          "state": {
            "_dom_classes": [],
            "_model_module": "@jupyter-widgets/controls",
            "_model_module_version": "1.5.0",
            "_model_name": "DropdownModel",
            "_options_labels": [
              "blue",
              "red",
              "green"
            ],
            "_view_count": null,
            "_view_module": "@jupyter-widgets/controls",
            "_view_module_version": "1.5.0",
            "_view_name": "DropdownView",
            "description": "color",
            "description_tooltip": null,
            "disabled": false,
            "index": 0,
            "layout": "IPY_MODEL_fec5811333f1460e8f8d011b29b80976",
            "style": "IPY_MODEL_74b30339b9f2412d9d09ecce144dc78f"
          }
        },
        "54ef7875d0a3430e99ca76cac9190242": {
          "model_module": "@jupyter-widgets/controls",
          "model_name": "FloatSliderModel",
          "state": {
            "_dom_classes": [],
            "_model_module": "@jupyter-widgets/controls",
            "_model_module_version": "1.5.0",
            "_model_name": "FloatSliderModel",
            "_view_count": null,
            "_view_module": "@jupyter-widgets/controls",
            "_view_module_version": "1.5.0",
            "_view_name": "FloatSliderView",
            "continuous_update": true,
            "description": "vDmax",
            "description_tooltip": null,
            "disabled": false,
            "layout": "IPY_MODEL_979befbd7d7b40cf9f86aacce9ce8874",
            "max": 20,
            "min": 1,
            "orientation": "horizontal",
            "readout": true,
            "readout_format": ".2f",
            "step": 1,
            "style": "IPY_MODEL_6d704c0f387f46109954a7261aa36b9c",
            "value": 8
          }
        },
        "d9a8152afff44e02b24285ba14964669": {
          "model_module": "@jupyter-widgets/controls",
          "model_name": "CheckboxModel",
          "state": {
            "_dom_classes": [],
            "_model_module": "@jupyter-widgets/controls",
            "_model_module_version": "1.5.0",
            "_model_name": "CheckboxModel",
            "_view_count": null,
            "_view_module": "@jupyter-widgets/controls",
            "_view_module_version": "1.5.0",
            "_view_name": "CheckboxView",
            "description": "grid",
            "description_tooltip": null,
            "disabled": false,
            "indent": true,
            "layout": "IPY_MODEL_ff29c756b6424204b9c2e69f1532f339",
            "style": "IPY_MODEL_5691f4cb78844ca0963388fa75db3501",
            "value": false
          }
        },
        "bfbb8d3c618342c292776d18b43c2d3f": {
          "model_module": "@jupyter-widgets/output",
          "model_name": "OutputModel",
          "state": {
            "_dom_classes": [],
            "_model_module": "@jupyter-widgets/output",
            "_model_module_version": "1.0.0",
            "_model_name": "OutputModel",
            "_view_count": null,
            "_view_module": "@jupyter-widgets/output",
            "_view_module_version": "1.0.0",
            "_view_name": "OutputView",
            "layout": "IPY_MODEL_5462124a88d94ffbb8097fd01b42d64b",
            "msg_id": "",
            "outputs": [
              {
                "output_type": "stream",
                "metadata": {
                  "tags": []
                },
                "text": "/opt/miniconda3/lib/python3.7/site-packages/ipykernel_launcher.py:5: RuntimeWarning: invalid value encountered in sqrt\n  \"\"\"\n",
                "stream": "stderr"
              },
              {
                "output_type": "display_data",
                "metadata": {
                  "tags": [],
                  "needs_background": "light"
                },
                "text/plain": "<Figure size 576x432 with 1 Axes>",
                "image/png": "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\n"
              }
            ]
          }
        },
        "e6eab95df22a4e6f89e2b3ade66d3698": {
          "model_module": "@jupyter-widgets/base",
          "model_name": "LayoutModel",
          "state": {
            "_model_module": "@jupyter-widgets/base",
            "_model_module_version": "1.2.0",
            "_model_name": "LayoutModel",
            "_view_count": null,
            "_view_module": "@jupyter-widgets/base",
            "_view_module_version": "1.2.0",
            "_view_name": "LayoutView",
            "align_content": null,
            "align_items": null,
            "align_self": null,
            "border": null,
            "bottom": null,
            "display": null,
            "flex": null,
            "flex_flow": null,
            "grid_area": null,
            "grid_auto_columns": null,
            "grid_auto_flow": null,
            "grid_auto_rows": null,
            "grid_column": null,
            "grid_gap": null,
            "grid_row": null,
            "grid_template_areas": null,
            "grid_template_columns": null,
            "grid_template_rows": null,
            "height": null,
            "justify_content": null,
            "justify_items": null,
            "left": null,
            "margin": null,
            "max_height": null,
            "max_width": null,
            "min_height": null,
            "min_width": null,
            "object_fit": null,
            "object_position": null,
            "order": null,
            "overflow": null,
            "overflow_x": null,
            "overflow_y": null,
            "padding": null,
            "right": null,
            "top": null,
            "visibility": null,
            "width": null
          }
        },
        "619f3a5f9a62441fac84bbbe0448e1ea": {
          "model_module": "@jupyter-widgets/base",
          "model_name": "LayoutModel",
          "state": {
            "_model_module": "@jupyter-widgets/base",
            "_model_module_version": "1.2.0",
            "_model_name": "LayoutModel",
            "_view_count": null,
            "_view_module": "@jupyter-widgets/base",
            "_view_module_version": "1.2.0",
            "_view_name": "LayoutView",
            "align_content": null,
            "align_items": null,
            "align_self": null,
            "border": null,
            "bottom": null,
            "display": null,
            "flex": null,
            "flex_flow": null,
            "grid_area": null,
            "grid_auto_columns": null,
            "grid_auto_flow": null,
            "grid_auto_rows": null,
            "grid_column": null,
            "grid_gap": null,
            "grid_row": null,
            "grid_template_areas": null,
            "grid_template_columns": null,
            "grid_template_rows": null,
            "height": null,
            "justify_content": null,
            "justify_items": null,
            "left": null,
            "margin": null,
            "max_height": null,
            "max_width": null,
            "min_height": null,
            "min_width": null,
            "object_fit": null,
            "object_position": null,
            "order": null,
            "overflow": null,
            "overflow_x": null,
            "overflow_y": null,
            "padding": null,
            "right": null,
            "top": null,
            "visibility": null,
            "width": null
          }
        },
        "d35bedc546b340acbc3ff0331e86e252": {
          "model_module": "@jupyter-widgets/controls",
          "model_name": "SliderStyleModel",
          "state": {
            "_model_module": "@jupyter-widgets/controls",
            "_model_module_version": "1.5.0",
            "_model_name": "SliderStyleModel",
            "_view_count": null,
            "_view_module": "@jupyter-widgets/base",
            "_view_module_version": "1.2.0",
            "_view_name": "StyleView",
            "description_width": "",
            "handle_color": null
          }
        },
        "fec5811333f1460e8f8d011b29b80976": {
          "model_module": "@jupyter-widgets/base",
          "model_name": "LayoutModel",
          "state": {
            "_model_module": "@jupyter-widgets/base",
            "_model_module_version": "1.2.0",
            "_model_name": "LayoutModel",
            "_view_count": null,
            "_view_module": "@jupyter-widgets/base",
            "_view_module_version": "1.2.0",
            "_view_name": "LayoutView",
            "align_content": null,
            "align_items": null,
            "align_self": null,
            "border": null,
            "bottom": null,
            "display": null,
            "flex": null,
            "flex_flow": null,
            "grid_area": null,
            "grid_auto_columns": null,
            "grid_auto_flow": null,
            "grid_auto_rows": null,
            "grid_column": null,
            "grid_gap": null,
            "grid_row": null,
            "grid_template_areas": null,
            "grid_template_columns": null,
            "grid_template_rows": null,
            "height": null,
            "justify_content": null,
            "justify_items": null,
            "left": null,
            "margin": null,
            "max_height": null,
            "max_width": null,
            "min_height": null,
            "min_width": null,
            "object_fit": null,
            "object_position": null,
            "order": null,
            "overflow": null,
            "overflow_x": null,
            "overflow_y": null,
            "padding": null,
            "right": null,
            "top": null,
            "visibility": null,
            "width": null
          }
        },
        "74b30339b9f2412d9d09ecce144dc78f": {
          "model_module": "@jupyter-widgets/controls",
          "model_name": "DescriptionStyleModel",
          "state": {
            "_model_module": "@jupyter-widgets/controls",
            "_model_module_version": "1.5.0",
            "_model_name": "DescriptionStyleModel",
            "_view_count": null,
            "_view_module": "@jupyter-widgets/base",
            "_view_module_version": "1.2.0",
            "_view_name": "StyleView",
            "description_width": ""
          }
        },
        "979befbd7d7b40cf9f86aacce9ce8874": {
          "model_module": "@jupyter-widgets/base",
          "model_name": "LayoutModel",
          "state": {
            "_model_module": "@jupyter-widgets/base",
            "_model_module_version": "1.2.0",
            "_model_name": "LayoutModel",
            "_view_count": null,
            "_view_module": "@jupyter-widgets/base",
            "_view_module_version": "1.2.0",
            "_view_name": "LayoutView",
            "align_content": null,
            "align_items": null,
            "align_self": null,
            "border": null,
            "bottom": null,
            "display": null,
            "flex": null,
            "flex_flow": null,
            "grid_area": null,
            "grid_auto_columns": null,
            "grid_auto_flow": null,
            "grid_auto_rows": null,
            "grid_column": null,
            "grid_gap": null,
            "grid_row": null,
            "grid_template_areas": null,
            "grid_template_columns": null,
            "grid_template_rows": null,
            "height": null,
            "justify_content": null,
            "justify_items": null,
            "left": null,
            "margin": null,
            "max_height": null,
            "max_width": null,
            "min_height": null,
            "min_width": null,
            "object_fit": null,
            "object_position": null,
            "order": null,
            "overflow": null,
            "overflow_x": null,
            "overflow_y": null,
            "padding": null,
            "right": null,
            "top": null,
            "visibility": null,
            "width": null
          }
        },
        "6d704c0f387f46109954a7261aa36b9c": {
          "model_module": "@jupyter-widgets/controls",
          "model_name": "SliderStyleModel",
          "state": {
            "_model_module": "@jupyter-widgets/controls",
            "_model_module_version": "1.5.0",
            "_model_name": "SliderStyleModel",
            "_view_count": null,
            "_view_module": "@jupyter-widgets/base",
            "_view_module_version": "1.2.0",
            "_view_name": "StyleView",
            "description_width": "",
            "handle_color": null
          }
        },
        "ff29c756b6424204b9c2e69f1532f339": {
          "model_module": "@jupyter-widgets/base",
          "model_name": "LayoutModel",
          "state": {
            "_model_module": "@jupyter-widgets/base",
            "_model_module_version": "1.2.0",
            "_model_name": "LayoutModel",
            "_view_count": null,
            "_view_module": "@jupyter-widgets/base",
            "_view_module_version": "1.2.0",
            "_view_name": "LayoutView",
            "align_content": null,
            "align_items": null,
            "align_self": null,
            "border": null,
            "bottom": null,
            "display": null,
            "flex": null,
            "flex_flow": null,
            "grid_area": null,
            "grid_auto_columns": null,
            "grid_auto_flow": null,
            "grid_auto_rows": null,
            "grid_column": null,
            "grid_gap": null,
            "grid_row": null,
            "grid_template_areas": null,
            "grid_template_columns": null,
            "grid_template_rows": null,
            "height": null,
            "justify_content": null,
            "justify_items": null,
            "left": null,
            "margin": null,
            "max_height": null,
            "max_width": null,
            "min_height": null,
            "min_width": null,
            "object_fit": null,
            "object_position": null,
            "order": null,
            "overflow": null,
            "overflow_x": null,
            "overflow_y": null,
            "padding": null,
            "right": null,
            "top": null,
            "visibility": null,
            "width": null
          }
        },
        "5691f4cb78844ca0963388fa75db3501": {
          "model_module": "@jupyter-widgets/controls",
          "model_name": "DescriptionStyleModel",
          "state": {
            "_model_module": "@jupyter-widgets/controls",
            "_model_module_version": "1.5.0",
            "_model_name": "DescriptionStyleModel",
            "_view_count": null,
            "_view_module": "@jupyter-widgets/base",
            "_view_module_version": "1.2.0",
            "_view_name": "StyleView",
            "description_width": ""
          }
        },
        "5462124a88d94ffbb8097fd01b42d64b": {
          "model_module": "@jupyter-widgets/base",
          "model_name": "LayoutModel",
          "state": {
            "_model_module": "@jupyter-widgets/base",
            "_model_module_version": "1.2.0",
            "_model_name": "LayoutModel",
            "_view_count": null,
            "_view_module": "@jupyter-widgets/base",
            "_view_module_version": "1.2.0",
            "_view_name": "LayoutView",
            "align_content": null,
            "align_items": null,
            "align_self": null,
            "border": null,
            "bottom": null,
            "display": null,
            "flex": null,
            "flex_flow": null,
            "grid_area": null,
            "grid_auto_columns": null,
            "grid_auto_flow": null,
            "grid_auto_rows": null,
            "grid_column": null,
            "grid_gap": null,
            "grid_row": null,
            "grid_template_areas": null,
            "grid_template_columns": null,
            "grid_template_rows": null,
            "height": null,
            "justify_content": null,
            "justify_items": null,
            "left": null,
            "margin": null,
            "max_height": null,
            "max_width": null,
            "min_height": null,
            "min_width": null,
            "object_fit": null,
            "object_position": null,
            "order": null,
            "overflow": null,
            "overflow_x": null,
            "overflow_y": null,
            "padding": null,
            "right": null,
            "top": null,
            "visibility": null,
            "width": null
          }
        }
      }
    }
  },
  "cells": [
    {
      "cell_type": "markdown",
      "metadata": {
        "id": "view-in-github",
        "colab_type": "text"
      },
      "source": [
        "<a href=\"https://colab.research.google.com/github/DiamondElectronicsGroup/Semi-Device-Modelling/blob/master/Semi_Device_Modelling_Ver0-2-5.ipynb\" target=\"_parent\"><img src=\"https://colab.research.google.com/assets/colab-badge.svg\" alt=\"Open In Colab\"/></a>"
      ]
    },
    {
      "cell_type": "code",
      "metadata": {
        "id": "CvVBV6_emip7",
        "colab_type": "code",
        "colab": {}
      },
      "source": [
        "# The aim for this project is to be able to simply model the characteristics of a semiconductor device given a number\n",
        "# of properties of the device"
      ],
      "execution_count": 0,
      "outputs": []
    },
    {
      "cell_type": "code",
      "metadata": {
        "id": "xkAqt6llmiqE",
        "colab_type": "code",
        "colab": {}
      },
      "source": [
        "import numpy as np\n",
        "import pandas as pd\n",
        "from scipy import constants as spcon\n",
        "import matplotlib.pyplot as plt\n",
        "from matplotlib.widgets import Slider, Button, RadioButtons\n",
        "plt.rcParams['figure.figsize'] = [15, 7]\n",
        "\n",
        "\n",
        "%matplotlib inline\n",
        "from ipywidgets import *"
      ],
      "execution_count": 0,
      "outputs": []
    },
    {
      "cell_type": "code",
      "metadata": {
        "id": "8GSPev2NmiqO",
        "colab_type": "code",
        "colab": {}
      },
      "source": [
        "#Define the scientific constants necessary for the modelling\n",
        "q = spcon.elementary_charge\n",
        "perm0 = spcon.epsilon_0\n",
        "kB = spcon.k\n",
        "\n",
        "#Define the material properties relevant to this specific system\n",
        "permS = 11.68\n",
        "semiWF = 4.47\n",
        "metalWF = 4.88\n",
        "dopeConc = (1 * 10 ** 20) #in units of cm^-3\n",
        "hMob = 450\n",
        "\n",
        "#Define the device parameters, such as gate length, gate width and channel depth\n",
        "lGate = 20 * 10 ** (-4)        #in units of um\n",
        "wGate = 200 * 10 ** (-4)        #in units of um\n",
        "dChan = 100 * 10 ** (-7)        #in units of nm\n",
        "\n",
        "#Calculate the built in voltage for the device\n",
        "vBI = (metalWF - semiWF)\n",
        "\n",
        "#Calculate the pinch-off voltage\n",
        "vP = q*((dopeConc * dChan**2) / (2 * (permS * perm0)))\n",
        "\n",
        "#Define the system voltages\n",
        "vG = np.arange(0.0, 1., 0.25)\n",
        "vS = 0\n",
        "vD = np.arange(-2, 8, 0.005)\n",
        "\n",
        "#Define the input array for the current calculation\n",
        "inputs = np.array([q, permS, perm0, hMob, wGate, dopeConc, dChan, lGate, vBI, vP])"
      ],
      "execution_count": 0,
      "outputs": []
    },
    {
      "cell_type": "code",
      "metadata": {
        "id": "rszNnkApmiqT",
        "colab_type": "code",
        "colab": {}
      },
      "source": [
        "#Calculate the depth of the depletion region in the MESFET (ie the region in which current is restricted)\n",
        "#Only consider the built-in voltage\n",
        "def BIDepletionDepth(inputs):\n",
        "    \n",
        "    q, permS, perm0, hMob, wGate, dopeConc, dChan, lGate, vBI, vP = inputs\n",
        "    \n",
        "    depth = np.sqrt(((2*permS*perm0)/(q*dopeConc))*(vBI))\n",
        "    return depth"
      ],
      "execution_count": 0,
      "outputs": []
    },
    {
      "cell_type": "code",
      "metadata": {
        "id": "-j0aM67KmiqZ",
        "colab_type": "code",
        "colab": {}
      },
      "source": [
        "#Calculate the depth of the depletion region in the MESFET (ie the region in which current is restricted)\n",
        "#Consider the built-in voltage and the gate voltage\n",
        "def BIGDepletionDepth(inputs, vG):\n",
        "    \n",
        "    q, permS, perm0, hMob, wGate, dopeConc, dChan, lGate, vBI, vP = inputs\n",
        "    \n",
        "    depth = np.sqrt(((2*permS*perm0)/(q*dopeConc))*(vBI + vG))\n",
        "    \n",
        "    return depth"
      ],
      "execution_count": 0,
      "outputs": []
    },
    {
      "cell_type": "code",
      "metadata": {
        "id": "Vs4fuxtImiqg",
        "colab_type": "code",
        "colab": {}
      },
      "source": [
        "#Calculate the depth of the depletion region in the MESFET (ie the region in which current is restricted)\n",
        "#Consider the built-in voltage, the gate voltage and the drain voltage\n",
        "def TotDepletionDepth(inputs, vG, vD):\n",
        "    \n",
        "    q, permS, perm0, hMob, wGate, dopeConc, dChan, lGate, vBI, vP = inputs\n",
        "\n",
        "    depth = np.sqrt(((2*permS*perm0)/(q*dopeConc))*(vBI + vG + vD))\n",
        "    \n",
        "    return depth"
      ],
      "execution_count": 0,
      "outputs": []
    },
    {
      "cell_type": "code",
      "metadata": {
        "id": "dx-LbMQlmiqm",
        "colab_type": "code",
        "colab": {}
      },
      "source": [
        "#Calculate the drain current based on the operating mode of the MESFET (ie taking into account vG and vD)\n",
        "def DrainCurrent(inputs, vG, vD):\n",
        "    \n",
        "    q, permS, perm0, hMob, wGate, dopeConc, dChan, lGate, vBI, vP, = inputs\n",
        "    coeff = 2 * q * hMob * wGate * dopeConc * dChan / lGate\n",
        "    depthBIG = BIGDepletionDepth(inputs, vG)\n",
        "    depthTot = TotDepletionDepth(inputs, vG, vD)\n",
        "    \n",
        "    #Define the array that will hold the values for the current\n",
        "    iD = np.zeros(len(vD))\n",
        "    iDSat = 0.0\n",
        "\n",
        "    \n",
        "    for i in range(len(vD)):\n",
        "        #Calculate the saturation current, which is reached when vD = VDSat\n",
        "        iDSat = coeff * (vG - vBI + vP - (2/3)*(vP - ((vG - vBI)/np.sqrt(vP))**(1.5)))          \n",
        "        depDepth = max(depthBIG, depthTot[i])\n",
        "        \n",
        "        if depDepth >= dChan:\n",
        "            iD[i] = 0\n",
        "        \n",
        "        elif vD[i] >= (vG - vBI + vP):\n",
        "            iD[i] = iDSat[i]\n",
        "        \n",
        "        elif vD[i] < (vG - vBI + vP) and vD[i] > 0:\n",
        "            GDTerm = ((vG - vBI + vD[i])/np.sqrt(vP))\n",
        "            GTerm = ((vG - vBI)/np.sqrt(vP))\n",
        "            iD[i] = coeff * (vD[i] - (2/3)*(GDTerm**(1.5) - GTerm**(1.5)))\n",
        "            \n",
        "        else:\n",
        "            iD[i] = 0\n",
        "\n",
        "    return iD, iDSat"
      ],
      "execution_count": 0,
      "outputs": []
    },
    {
      "cell_type": "code",
      "metadata": {
        "id": "FROuW7Apmiq3",
        "colab_type": "code",
        "outputId": "37d6dab5-7573-4583-de2e-7602d1dd1924",
        "colab": {
          "base_uri": "https://localhost:8080/",
          "height": 537,
          "referenced_widgets": [
            "d8e347e6206e43068d70ee391c045559",
            "7f423bd3e24648fda7ea9d13a6bf0ce9",
            "a4cea8fd49c04dfca4d7b369761116a8",
            "54ef7875d0a3430e99ca76cac9190242",
            "d9a8152afff44e02b24285ba14964669",
            "bfbb8d3c618342c292776d18b43c2d3f",
            "e6eab95df22a4e6f89e2b3ade66d3698",
            "619f3a5f9a62441fac84bbbe0448e1ea",
            "d35bedc546b340acbc3ff0331e86e252",
            "fec5811333f1460e8f8d011b29b80976",
            "74b30339b9f2412d9d09ecce144dc78f",
            "979befbd7d7b40cf9f86aacce9ce8874",
            "6d704c0f387f46109954a7261aa36b9c",
            "ff29c756b6424204b9c2e69f1532f339",
            "5691f4cb78844ca0963388fa75db3501",
            "5462124a88d94ffbb8097fd01b42d64b"
          ]
        }
      },
      "source": [
        "\n",
        "\n",
        "@widgets.interact(\n",
        "    color=['blue', 'red', 'green'], vDmax=(1., 20., 1.), vG=(0.0, 5.0, 0.25))\n",
        "def plot(vG=0.50, color='blue', vDmax=10, grid=False):\n",
        "    vD = np.linspace(-1., vDmax, 10000)\n",
        "    fig, ax = plt.subplots(1, 1, figsize=(8, 6))\n",
        "    ax.plot(vD, DrainCurrent(inputs, vG, vD)[0], color=color)\n",
        "    ax.grid(grid)\n"
      ],
      "execution_count": 9,
      "outputs": [
        {
          "output_type": "display_data",
          "data": {
            "text/plain": [
              "interactive(children=(FloatSlider(value=0.5, description='vG', max=5.0, step=0.25), Dropdown(description='colo…"
            ],
            "application/vnd.jupyter.widget-view+json": {
              "version_major": 2,
              "version_minor": 0,
              "model_id": "d8e347e6206e43068d70ee391c045559"
            }
          },
          "metadata": {
            "tags": []
          }
        }
      ]
    }
  ]
}